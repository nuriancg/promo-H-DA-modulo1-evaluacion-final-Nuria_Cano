{
 "cells": [
  {
   "cell_type": "code",
   "execution_count": 31,
   "metadata": {},
   "outputs": [],
   "source": [
    "# Definimos la classe\n",
    "class TiendaOnline:\n",
    "\n",
    "    # Definimos los atributos de la classe\n",
    "    def __init__(self, *inventario, ventas_totales=0, **clientes ):\n",
    "\n",
    "        # Definimos los atributos \n",
    "        self.inventario = list(inventario)\n",
    "        self.ventas_totales = ventas_totales\n",
    "        self.clientes = dict(clientes)\n",
    "       \n",
    "\n",
    "\n",
    "    # Definimos un método: (Ejercicio 4)\n",
    "    def agregar_producto(self, nombre, precio, cantidad):   \n",
    "\n",
    "        nombre = nombre.capitalize()\n",
    "\n",
    "        #Comprobamos si la lista de diccionarios 'inventario' está vacía. \n",
    "        #Si está vacía añadimos nuestro primer diccionario de un producto.\n",
    "        if len(self.inventario) == 0:\n",
    "            self.inventario.append({'nombre':nombre,'precio':precio,'cantidad':cantidad}) \n",
    "\n",
    "        # Si la lista de diccionarios 'inventaro' no está vacía, iteramos por ella.\n",
    "        # Iteramos por cada uno de los diccionarios 'producto' \n",
    "        for producto in self.inventario:\n",
    "           \n",
    "            # Si el nombre coincide con un nombre ya existente en uno de los diccionarios 'producto', actualizamos el valor de la key=cantidad de éste.\n",
    "            if producto['nombre'] == nombre:\n",
    "                producto ['cantidad'] = cantidad\n",
    "            \n",
    "             # Si el nombre no coincide con uno ya existente, añadimos un nuevo diccionario 'producto' a la lista 'inventario'\n",
    "            else:\n",
    "                self.inventario.append({'nombre':nombre,'precio':precio,'cantidad':cantidad}) \n",
    "              \n",
    "     \n",
    "\n",
    "    # Definimos un método: (Ejercicio 5)\n",
    "    def ver_inventario(self):\n",
    "\n",
    "        # Comprobamos si la lista de diccionarios 'inventario' está vacía. \n",
    "        # Si está vacía sale un mensaje de error.\n",
    "        if len(self.inventario) == 0:\n",
    "            print(f'El inventario de productos está vacío.\\nUtiliza la función \"agregar_producto(nombre, precio, cantidad)\" para añadir productos.')\n",
    "\n",
    "        # Si la lista no erstá vacía, utilizamos un bucle 'for' para iterar por cada elemento de la lista 'inventario'.\n",
    "        for producto in self.inventario:\n",
    "            # Mostramos al ususario la información de cada uno de los productos\n",
    "            print('Nombre:',producto['nombre'],', Precio: $',producto['precio'],', Cantidad: ',producto['cantidad'])\n",
    "           \n",
    "\n",
    "\n",
    "    # Definimos un método: (Ejercicio 6)\n",
    "    def buscar_producto(self, nombre):\n",
    "\n",
    "        nombre = nombre.capitalize()\n",
    "        \n",
    "        # Comprobamos si la lista de diccionarios 'inventario' está vacía. \n",
    "        # Si está vacía sale un mensaje de error.\n",
    "        if len(self.inventario) == 0:\n",
    "            print(f'El inventario de productos está vacío.\\nUtiliza la función \"agregar_producto(nombre, precio, cantidad)\" para añadir productos.')\n",
    "\n",
    "        # Si la lista no erstá vacía, utilizamos un bucle 'for' para iterar por cada elemento de la lista 'inventario'.\n",
    "        for producto in self.inventario:\n",
    "            \n",
    "            # Comprobamos si el nombre coincide con un nombre ya existente en uno de los diccionarios.\n",
    "            if producto['nombre'] == nombre:\n",
    "                # Si el nombre coincide con un nombre ya existente en uno de los diccionarios mostramos la información sobre éste producto.\n",
    "                return (f'Nombre:',producto['nombre'],', Precio: $',producto['precio'],', Cantidad: ',producto['cantidad']) \n",
    "\n",
    "\n",
    "        # Si el nombre no existe mostramos un mensaje de error\n",
    "        else:\n",
    "            print(f'El producto {nombre} no existe en el inventario')           \n",
    "\n",
    "\n",
    "    # Definimos un método (Ejercicio 7)\n",
    "    def actualizar_stock(self, nombre, cantidad):\n",
    "\n",
    "        nombre = nombre.capitalize()\n",
    "                \n",
    "        # Comprobamos si la lista de diccionarios 'inventario' está vacía. \n",
    "        # Si está vacía sale un mensaje de error.\n",
    "        if len(self.inventario) == 0:\n",
    "            print(f'El inventario de productos está vacío.\\nUtiliza la función \"agregar_producto(nombre, precio, cantidad)\" para añadir productos.')\n",
    "\n",
    "        # Si la lista no erstá vacía, utilizamos un bucle 'for' para iterar por cada elemento de la lista 'inventario'.\n",
    "        for producto in self.inventario:\n",
    "\n",
    "            # Si el nombre coincide con un nombre ya existente en uno de los diccionarios modificamos la cantidad de éste.\n",
    "            if producto['nombre'] == nombre:\n",
    "                producto['cantidad'] = cantidad\n",
    "\n",
    "        # Si el nombre no existe mostramos un mensaje de error                        \n",
    "        else:\n",
    "            print(f'Error. Este producto no está en el inventario. \\nUtiliza la función \"agregar_producto(nombre, precio, cantidad)\" para añadir productos.')\n",
    "                \n",
    "\n",
    "\n",
    "    # Definimos un método (Ejercicio 8)\n",
    "    def eliminar_producto(self, nombre):\n",
    "\n",
    "        nombre = nombre.capitalize()\n",
    "         \n",
    "        # Comprobamos si la lista de diccionarios 'inventario' está vacía. \n",
    "        # Si está vacía sale un mensaje de error.\n",
    "        if len(self.inventario) == 0:\n",
    "            print(f'El inventario de productos está vacío.\\nUtiliza la función \"agregar_producto(nombre, precio, cantidad)\" para añadir productos.')\n",
    "\n",
    "        # Si la lista no erstá vacía, utilizamos un bucle 'for' para iterar por cada elemento de la lista 'inventario'.\n",
    "        for producto in self.inventario:\n",
    "\n",
    "            # Si el nombre coincide con un nombre ya existente en uno de los diccionarios eliminaremos este de la lista self.inventario.\n",
    "            if producto['nombre'] == nombre:\n",
    "                self.inventario.remove(producto)\n",
    "\n",
    "        # Si no existe mostraremos un mensaje de error        \n",
    "        else:\n",
    "            print(f'Error. Este producto no está en el inventario. \\nUtiliza la función \"agregar_producto(nombre, precio, cantidad)\" para añadir productos.')\n",
    "            \n",
    "\n",
    "\n",
    "    # Definimos un método (Ejercicio 9)\n",
    "    def calcular_valor_inventario(self):\n",
    "\n",
    "        # Definimos la variable dónde almanecaremos los cálculos\n",
    "        valor_total = float(0)\n",
    "\n",
    "        # Comprobamos si la lista de diccionarios 'inventario' está vacía. \n",
    "        # Si está vacía sale un mensaje de error.\n",
    "        if len(self.inventario) == 0:\n",
    "            print(f'El inventario de productos está vacío.\\nUtiliza la función \"agregar_producto(nombre, precio, cantidad)\" para añadir productos.')\n",
    "\n",
    "        # Si la lista no erstá vacía, utilizamos un bucle 'for' para iterar por cada elemento de la lista 'inventario'.\n",
    "        for producto in self.inventario:\n",
    "            # Accederemos a los valores de 'precio y 'cantidad' del producto y realizamos el cálculo\n",
    "            valor_producto = producto['precio'] * producto['cantidad']\n",
    "            valor_total += valor_producto\n",
    "\n",
    "        # Mostramos el valor total del inventario\n",
    "        print(f'El valor total del inventario es de ${valor_total}')\n",
    "\n",
    "\n",
    "    # Definimos un método (Ejercicio 10)\n",
    "    def realizar_compra(self):\n",
    "\n",
    "        # Definimos la variable donde almacenaremos los productos comprados.\n",
    "        carrito = list()\n",
    "        coste = float(0)\n",
    "\n",
    "        # Comprobamos si la lista de diccionarios 'inventario' está vacía. \n",
    "        # Si está vacía sale un mensaje de error.\n",
    "        if len(self.inventario) == 0:\n",
    "            print(f'El inventario de productos está vacío por lo que no es posible realizar compras.')\n",
    "\n",
    "        # Iniciamos el bucle while que solo se ejecutará mientras sea True.\n",
    "        while True:\n",
    "\n",
    "            # Comprobamos si la lista de diccionarios 'inventario' está vacía. \n",
    "            # Si está vacía sale un mensaje de error.\n",
    "            if len(self.inventario) == 0:\n",
    "                print(f'Lamentablemente el inventario de productos está vacío.\\nUtiliza la función \"agregar_producto(nombre, precio, cantidad)\" para añadir productos y poder comprar.')\n",
    "                break\n",
    "            \n",
    "            # Si la lista no erstá vacía, utilizamos el método ya definido anteriormente 'ver_inventario()'.\n",
    "            print('Actualmente el inventario consta de:')\n",
    "            self.ver_inventario()\n",
    "                        \n",
    "            # Pedimos al usuario que introduzca el nombre del producto que quiere comprar.\n",
    "            # Nos aseguramos que el formato del nombre que introduce el usuario es igual al del inventario con la función ''\n",
    "            print('============================================')\n",
    "            compra_nombre = input('Indica el nombre del producto de la lista de arriba que deseas comprar o introduce \"Fin\" para finalizar la compra.').capitalize()\n",
    "\n",
    "            # Si el usuario selecciona Fin saldremos del bucle while y se detiene el método.\n",
    "            if compra_nombre == 'Fin':\n",
    "                break\n",
    "            \n",
    "            # Iniciamos un bucle for para iterar en todos los diccionarios de la lista inventario\n",
    "            for producto in self.inventario:\n",
    "\n",
    "                #Comprobamos si el nombre del producto coincide con el valor introducido por el usuario.\n",
    "                if compra_nombre == producto['nombre'].capitalize():\n",
    "\n",
    "                    #Añadimos el producto al carrito\n",
    "                    carrito.append(producto)\n",
    "\n",
    "                    #Accedemos a los valores de precio y cantidad y calculamos el coste total del producto.\n",
    "                    #Sumamos el total del producto al coste total de la compra\n",
    "                    valor_producto = producto['precio'] * producto['cantidad']\n",
    "                    coste += valor_producto\n",
    "\n",
    "                    #Eliminamos del inventario el producto que hemos añadido al carro de la compra\n",
    "                    self.inventario.remove(producto)\n",
    "                    #self.eliminar_producto(producto['nombre'])\n",
    "                    break\n",
    "\n",
    "            print('Este es el carro de la compra:')\n",
    "            \n",
    "            #Iteramos en los elementos del carrito para mostrar la información de cada uno de ellos.\n",
    "            for producto in carrito:\n",
    "                print('Nombre:',producto['nombre'],', Precio: $',producto['precio'],', Cantidad: ',producto['cantidad']) \n",
    "\n",
    "            #Mostramos el coste total final de la compra    \n",
    "            print(f'\\nEl coste total es de ${coste}\\n')\n",
    "                \n",
    "  \n",
    "\n",
    "    # Definimos un método (Ejercicio 11)\n",
    "    def procesar_pago(self):\n",
    "        \n",
    "        #Iniciamos el bloque try/expect \n",
    "        try:\n",
    "\n",
    "            # Pedimos al usuario que introduzca las cantidades\n",
    "            cantidad_total = float(input('Cual es la cantidad total de tu pedido?'))\n",
    "            pago = float(input('Y cual es la cantidad de pago?'))\n",
    "\n",
    "            #Comprobamos si la cantidad con la que paga es menor que la cantidad a pagar.\n",
    "            #Mostramos un mensaje de pago insuficiente.\n",
    "            if pago < cantidad_total:\n",
    "                print(f'Error. El pago no es suficiente. Recuerda que la cantidad total a pagar es de {cantidad_total}')\n",
    "\n",
    "            # Calculamos y mostramos el cambio\n",
    "            else:\n",
    "                print(f'Pago exitoso!\\nTu cambio es de ${round(pago-cantidad_total,2)}')    \n",
    "\n",
    "        # Definimos la funcion a realizar en caso de tener un error del typo Value Error.\n",
    "        except ValueError:\n",
    "            print('Eror! Los valores introducidos deben de ser números.\\nEn caso de ser decimales utiliza un punto y no una coma')\n",
    "\n",
    "        \n",
    "    # Definimos un método (Ejercicio 12)\n",
    "    def agregar_cliente(self, nombre_cliente, email):\n",
    "\n",
    "        nombre_cliente = nombre_cliente.capitalize()\n",
    "        \n",
    "        #Creamos una variable donde almacenamos los datos del nuevo cliente y las añadimos al diccionario de clientes\n",
    "        nuevo_cliente = {nombre_cliente:{'email':email, 'compras':[]}}  \n",
    "        self.clientes.update(nuevo_cliente) \n",
    "\n",
    "\n",
    "\n",
    "    # Definimos un método (Ejercicio 13)\n",
    "    def ver_clientes(self):\n",
    "\n",
    "        #Iteramos con los valores key-value en el diccionario de clientes para mostrar la informacion de los clientes existentes\n",
    "        for k,v in self.clientes.items(): \n",
    "            print( f'Nombre: {k}, {v}')    \n",
    "\n",
    "\n",
    "\n",
    "    # Definimos un método (Ejercicio 14)\n",
    "    def registrar_compra(self, nombre_cliente, **carrito):\n",
    "\n",
    "        nombre_cliente = nombre_cliente.capitalize()\n",
    "        \n",
    "        #Definimos la variable donde almacenaremos nuestro cálculo del valor de la compra total\n",
    "        total_compra = float(0)\n",
    "    \n",
    "        #Comprovamos si el nombre del cliente existe en el diccionario clientes\n",
    "        if nombre_cliente in self.clientes:\n",
    "\n",
    "            #Iteramos por los elementos del diccionario carrito\n",
    "            for producto in carrito:\n",
    "                #Calculamos el valor de la compra accediendo a los valores precio y cantidad de los elementos del dicionario\n",
    "                compra = carrito[producto]['precio'] * carrito[producto]['cantidad']\n",
    "                total_compra+=compra\n",
    "                \n",
    "            #Añadimos la lista de compras \n",
    "            self.clientes[nombre_cliente]['compras']=carrito\n",
    "                  \n",
    "        # Si el cliente no está en el diccionario mostramos un mensaje de error    \n",
    "        else:\n",
    "            print(f'No se puede realizar la acción por que el cliente {nombre_cliente} no está en el diccionario')\n",
    "\n",
    "        #Añadimos el valos de la compra al total de las ventas\n",
    "        self.ventas_totales += total_compra\n",
    "\n",
    "\n",
    "\n",
    "    # Definimos un método (Ejercicio 15)\n",
    "    def ver_compras_cliente(self, nombre_cliente):\n",
    "\n",
    "        nombre_cliente = nombre_cliente.capitalize()\n",
    "\n",
    "        #Comprobamos si el nombre del cliente existe en cliente\n",
    "        if nombre_cliente in self.clientes:\n",
    "            \n",
    "            #Mostramos las compras del cliente\n",
    "            print(self.clientes[nombre_cliente]['compras'])\n",
    "\n",
    "     \n",
    "\n",
    "    # Definimos un método (Ejercicio 16)\n",
    "    def calcular_ventas_totales(self):\n",
    "        return self.ventas_totales\n"
   ]
  },
  {
   "cell_type": "code",
   "execution_count": 32,
   "metadata": {},
   "outputs": [],
   "source": [
    "# creamos la instancia de la clase\n",
    "productos=list()\n",
    "clientes = dict()\n",
    "\n",
    "inve = TiendaOnline(*productos,**clientes)"
   ]
  },
  {
   "cell_type": "code",
   "execution_count": 33,
   "metadata": {},
   "outputs": [
    {
     "data": {
      "text/plain": [
       "{'inventario': [], 'ventas_totales': 0, 'clientes': {}}"
      ]
     },
     "execution_count": 33,
     "metadata": {},
     "output_type": "execute_result"
    }
   ],
   "source": [
    "inve.__dict__"
   ]
  },
  {
   "cell_type": "markdown",
   "metadata": {},
   "source": [
    "4. Agregar productos"
   ]
  },
  {
   "cell_type": "code",
   "execution_count": 34,
   "metadata": {},
   "outputs": [],
   "source": [
    "inve.agregar_producto('sofa',1500,2)\n",
    "inve.agregar_producto('silla',50,4)"
   ]
  },
  {
   "cell_type": "code",
   "execution_count": 35,
   "metadata": {},
   "outputs": [],
   "source": [
    "inve.agregar_producto('sofa',1500,6)"
   ]
  },
  {
   "cell_type": "markdown",
   "metadata": {},
   "source": [
    "5. Ver inventario"
   ]
  },
  {
   "cell_type": "code",
   "execution_count": 36,
   "metadata": {},
   "outputs": [
    {
     "name": "stdout",
     "output_type": "stream",
     "text": [
      "Nombre: Sofa , Precio: $ 1500 , Cantidad:  6\n",
      "Nombre: Silla , Precio: $ 50 , Cantidad:  4\n",
      "Nombre: Sofa , Precio: $ 1500 , Cantidad:  6\n"
     ]
    }
   ],
   "source": [
    "inve.ver_inventario()"
   ]
  },
  {
   "cell_type": "markdown",
   "metadata": {},
   "source": [
    "6. Buscar producto"
   ]
  },
  {
   "cell_type": "code",
   "execution_count": 37,
   "metadata": {},
   "outputs": [
    {
     "data": {
      "text/plain": [
       "('Nombre:', 'Sofa', ', Precio: $', 1500, ', Cantidad: ', 6)"
      ]
     },
     "execution_count": 37,
     "metadata": {},
     "output_type": "execute_result"
    }
   ],
   "source": [
    "inve.buscar_producto('sofa')"
   ]
  },
  {
   "cell_type": "code",
   "execution_count": 38,
   "metadata": {},
   "outputs": [
    {
     "data": {
      "text/plain": [
       "('Nombre:', 'Silla', ', Precio: $', 50, ', Cantidad: ', 4)"
      ]
     },
     "execution_count": 38,
     "metadata": {},
     "output_type": "execute_result"
    }
   ],
   "source": [
    "inve.buscar_producto('silla')"
   ]
  },
  {
   "cell_type": "code",
   "execution_count": 39,
   "metadata": {},
   "outputs": [
    {
     "name": "stdout",
     "output_type": "stream",
     "text": [
      "El producto Tele no existe en el inventario\n"
     ]
    }
   ],
   "source": [
    "inve.buscar_producto('tele')"
   ]
  },
  {
   "cell_type": "markdown",
   "metadata": {},
   "source": [
    "7.Actualizar stock"
   ]
  },
  {
   "cell_type": "code",
   "execution_count": 40,
   "metadata": {},
   "outputs": [
    {
     "name": "stdout",
     "output_type": "stream",
     "text": [
      "Error. Este producto no está en el inventario. \n",
      "Utiliza la función \"agregar_producto(nombre, precio, cantidad)\" para añadir productos.\n"
     ]
    }
   ],
   "source": [
    "inve.actualizar_stock('sofa',10)"
   ]
  },
  {
   "cell_type": "markdown",
   "metadata": {},
   "source": [
    "8.Eliminar producto"
   ]
  },
  {
   "cell_type": "code",
   "execution_count": 41,
   "metadata": {},
   "outputs": [
    {
     "name": "stdout",
     "output_type": "stream",
     "text": [
      "Error. Este producto no está en el inventario. \n",
      "Utiliza la función \"agregar_producto(nombre, precio, cantidad)\" para añadir productos.\n"
     ]
    }
   ],
   "source": [
    "inve.eliminar_producto('sofa')"
   ]
  },
  {
   "cell_type": "markdown",
   "metadata": {},
   "source": [
    "9. Calcular valor inventario"
   ]
  },
  {
   "cell_type": "code",
   "execution_count": 42,
   "metadata": {},
   "outputs": [
    {
     "name": "stdout",
     "output_type": "stream",
     "text": [
      "El valor total del inventario es de $200.0\n"
     ]
    }
   ],
   "source": [
    "inve.calcular_valor_inventario()"
   ]
  },
  {
   "cell_type": "markdown",
   "metadata": {},
   "source": [
    "10.Realizar compra"
   ]
  },
  {
   "cell_type": "code",
   "execution_count": 43,
   "metadata": {},
   "outputs": [
    {
     "name": "stdout",
     "output_type": "stream",
     "text": [
      "Actualmente el inventario consta de:\n",
      "Nombre: Silla , Precio: $ 50 , Cantidad:  4\n",
      "============================================\n"
     ]
    },
    {
     "name": "stdout",
     "output_type": "stream",
     "text": [
      "Este es el carro de la compra:\n",
      "\n",
      "El coste total es de $0.0\n",
      "\n",
      "Actualmente el inventario consta de:\n",
      "Nombre: Silla , Precio: $ 50 , Cantidad:  4\n",
      "============================================\n",
      "Este es el carro de la compra:\n",
      "Nombre: Silla , Precio: $ 50 , Cantidad:  4\n",
      "\n",
      "El coste total es de $200.0\n",
      "\n",
      "Lamentablemente el inventario de productos está vacío.\n",
      "Utiliza la función \"agregar_producto(nombre, precio, cantidad)\" para añadir productos y poder comprar.\n"
     ]
    }
   ],
   "source": [
    "inve.realizar_compra()"
   ]
  },
  {
   "cell_type": "markdown",
   "metadata": {},
   "source": [
    "11.Procesar pago"
   ]
  },
  {
   "cell_type": "code",
   "execution_count": 44,
   "metadata": {},
   "outputs": [
    {
     "name": "stdout",
     "output_type": "stream",
     "text": [
      "Pago exitoso!\n",
      "Tu cambio es de $100.0\n"
     ]
    }
   ],
   "source": [
    "inve.procesar_pago()"
   ]
  },
  {
   "cell_type": "code",
   "execution_count": 83,
   "metadata": {},
   "outputs": [
    {
     "name": "stdout",
     "output_type": "stream",
     "text": [
      "Error. El pago no es suficiente. Recuerda que la cantidad total a pagar es de 600.0\n"
     ]
    }
   ],
   "source": [
    "inve.procesar_pago()"
   ]
  },
  {
   "cell_type": "markdown",
   "metadata": {},
   "source": [
    "12.Agregar cliente"
   ]
  },
  {
   "cell_type": "code",
   "execution_count": 45,
   "metadata": {},
   "outputs": [],
   "source": [
    "inve.agregar_cliente('Carlos','carlos@hotmail.com')"
   ]
  },
  {
   "cell_type": "code",
   "execution_count": 46,
   "metadata": {},
   "outputs": [],
   "source": [
    "inve.agregar_cliente('Nuria','nurua@gmail.com')"
   ]
  },
  {
   "cell_type": "markdown",
   "metadata": {},
   "source": [
    "13.Ver clientes\n"
   ]
  },
  {
   "cell_type": "code",
   "execution_count": 47,
   "metadata": {},
   "outputs": [
    {
     "name": "stdout",
     "output_type": "stream",
     "text": [
      "Nombre: Carlos, {'email': 'carlos@hotmail.com', 'compras': []}\n",
      "Nombre: Nuria, {'email': 'nurua@gmail.com', 'compras': []}\n"
     ]
    }
   ],
   "source": [
    "inve.ver_clientes()"
   ]
  },
  {
   "cell_type": "markdown",
   "metadata": {},
   "source": [
    "14.Registrar compra"
   ]
  },
  {
   "cell_type": "code",
   "execution_count": 48,
   "metadata": {},
   "outputs": [],
   "source": [
    "compra_carlos = {'camisa':{'precio':20,'cantidad':3}}\n",
    "inve.registrar_compra('Carlos',**compra_carlos)"
   ]
  },
  {
   "cell_type": "markdown",
   "metadata": {},
   "source": [
    "15.Ver compras cliente"
   ]
  },
  {
   "cell_type": "code",
   "execution_count": 49,
   "metadata": {},
   "outputs": [
    {
     "name": "stdout",
     "output_type": "stream",
     "text": [
      "{'camisa': {'precio': 20, 'cantidad': 3}}\n"
     ]
    }
   ],
   "source": [
    "inve.ver_compras_cliente('Carlos')"
   ]
  },
  {
   "cell_type": "markdown",
   "metadata": {},
   "source": [
    "16.Calcular ventas totales"
   ]
  },
  {
   "cell_type": "code",
   "execution_count": 50,
   "metadata": {},
   "outputs": [
    {
     "data": {
      "text/plain": [
       "60.0"
      ]
     },
     "execution_count": 50,
     "metadata": {},
     "output_type": "execute_result"
    }
   ],
   "source": [
    "inve.calcular_ventas_totales()"
   ]
  }
 ],
 "metadata": {
  "kernelspec": {
   "display_name": "base",
   "language": "python",
   "name": "python3"
  },
  "language_info": {
   "codemirror_mode": {
    "name": "ipython",
    "version": 3
   },
   "file_extension": ".py",
   "mimetype": "text/x-python",
   "name": "python",
   "nbconvert_exporter": "python",
   "pygments_lexer": "ipython3",
   "version": "3.9.7"
  }
 },
 "nbformat": 4,
 "nbformat_minor": 2
}
